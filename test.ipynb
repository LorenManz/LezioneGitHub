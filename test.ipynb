{
 "cells": [
  {
   "cell_type": "code",
   "execution_count": 4,
   "id": "c691671b",
   "metadata": {},
   "outputs": [],
   "source": [
    "import os\n",
    "from dotenv import load_dotenv\n",
    "load_dotenv()\n",
    "\n",
    "API_key = os.getenv('api_key')\n"
   ]
  },
  {
   "cell_type": "code",
   "execution_count": 5,
   "id": "f968ac1d",
   "metadata": {},
   "outputs": [
    {
     "data": {
      "text/plain": [
       "<Response [200]>"
      ]
     },
     "execution_count": 5,
     "metadata": {},
     "output_type": "execute_result"
    }
   ],
   "source": [
    "import requests\n",
    "\n",
    "city_name = 'Terni'\n",
    "\n",
    "url = f'https://api.openweathermap.org/data/2.5/weather?q={city_name}&appid={API_key}'\n",
    "\n",
    "result = requests.get(url)\n",
    "result\n",
    "\n"
   ]
  },
  {
   "cell_type": "code",
   "execution_count": 6,
   "id": "5c712b11",
   "metadata": {},
   "outputs": [
    {
     "data": {
      "text/plain": [
       "{'coord': {'lon': 12.3167, 'lat': 42.6833},\n",
       " 'weather': [{'id': 500,\n",
       "   'main': 'Rain',\n",
       "   'description': 'light rain',\n",
       "   'icon': '10d'}],\n",
       " 'base': 'stations',\n",
       " 'main': {'temp': 289.55,\n",
       "  'feels_like': 289,\n",
       "  'temp_min': 289.55,\n",
       "  'temp_max': 289.55,\n",
       "  'pressure': 1013,\n",
       "  'humidity': 67,\n",
       "  'sea_level': 1013,\n",
       "  'grnd_level': 974},\n",
       " 'visibility': 10000,\n",
       " 'wind': {'speed': 2.02, 'deg': 342, 'gust': 1.73},\n",
       " 'rain': {'1h': 0.53},\n",
       " 'clouds': {'all': 0},\n",
       " 'dt': 1747142267,\n",
       " 'sys': {'country': 'IT', 'sunrise': 1747108234, 'sunset': 1747160623},\n",
       " 'timezone': 7200,\n",
       " 'id': 3165770,\n",
       " 'name': 'Province of Terni',\n",
       " 'cod': 200}"
      ]
     },
     "execution_count": 6,
     "metadata": {},
     "output_type": "execute_result"
    }
   ],
   "source": [
    "json = result.json()\n",
    "json"
   ]
  },
  {
   "cell_type": "code",
   "execution_count": null,
   "id": "d16382b8",
   "metadata": {},
   "outputs": [
    {
     "data": {
      "text/plain": [
       "{'country': 'IT', 'sunrise': 1747108234, 'sunset': 1747160623}"
      ]
     },
     "execution_count": 14,
     "metadata": {},
     "output_type": "execute_result"
    }
   ],
   "source": [
    "json['sys']['sunrise']"
   ]
  },
  {
   "cell_type": "code",
   "execution_count": 13,
   "id": "ccc8a7d3",
   "metadata": {},
   "outputs": [
    {
     "data": {
      "text/plain": [
       "{'speed': 2.3, 'deg': 344, 'gust': 2.33}"
      ]
     },
     "execution_count": 13,
     "metadata": {},
     "output_type": "execute_result"
    }
   ],
   "source": [
    "json['wind']"
   ]
  },
  {
   "cell_type": "code",
   "execution_count": 14,
   "id": "2e7cf242",
   "metadata": {},
   "outputs": [
    {
     "data": {
      "text/plain": [
       "344"
      ]
     },
     "execution_count": 14,
     "metadata": {},
     "output_type": "execute_result"
    }
   ],
   "source": [
    "json['wind']['deg']"
   ]
  },
  {
   "cell_type": "code",
   "execution_count": 15,
   "id": "a3e80197",
   "metadata": {},
   "outputs": [
    {
     "data": {
      "text/plain": [
       "[{'id': 800, 'main': 'Clear', 'description': 'clear sky', 'icon': '01d'}]"
      ]
     },
     "execution_count": 15,
     "metadata": {},
     "output_type": "execute_result"
    }
   ],
   "source": [
    "json['weather']"
   ]
  },
  {
   "cell_type": "code",
   "execution_count": 16,
   "id": "b07347ab",
   "metadata": {},
   "outputs": [
    {
     "data": {
      "text/plain": [
       "{'id': 800, 'main': 'Clear', 'description': 'clear sky', 'icon': '01d'}"
      ]
     },
     "execution_count": 16,
     "metadata": {},
     "output_type": "execute_result"
    }
   ],
   "source": [
    "json['weather'][0]"
   ]
  },
  {
   "cell_type": "code",
   "execution_count": 17,
   "id": "deb015a4",
   "metadata": {},
   "outputs": [
    {
     "data": {
      "text/plain": [
       "'01d'"
      ]
     },
     "execution_count": 17,
     "metadata": {},
     "output_type": "execute_result"
    }
   ],
   "source": [
    "json['weather'][0]['icon']"
   ]
  },
  {
   "cell_type": "code",
   "execution_count": null,
   "id": "e1de873b",
   "metadata": {},
   "outputs": [],
   "source": []
  }
 ],
 "metadata": {
  "kernelspec": {
   "display_name": "Python 3",
   "language": "python",
   "name": "python3"
  },
  "language_info": {
   "codemirror_mode": {
    "name": "ipython",
    "version": 3
   },
   "file_extension": ".py",
   "mimetype": "text/x-python",
   "name": "python",
   "nbconvert_exporter": "python",
   "pygments_lexer": "ipython3",
   "version": "3.11.9"
  }
 },
 "nbformat": 4,
 "nbformat_minor": 5
}
